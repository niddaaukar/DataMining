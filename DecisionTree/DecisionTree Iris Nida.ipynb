{
 "cells": [
  {
   "cell_type": "code",
   "execution_count": 1,
   "id": "121946a7",
   "metadata": {},
   "outputs": [],
   "source": [
    "#Import library numpy, pandas dan scikit-learn\n",
    "import numpy as np\n",
    "import pandas as pd\n",
    "from sklearn import tree"
   ]
  },
  {
   "cell_type": "code",
   "execution_count": 2,
   "id": "d21d3fa0",
   "metadata": {},
   "outputs": [],
   "source": [
    "#Membaca Dataset dari File ke Pandas dataFrame\n",
    "irisDataset = pd.read_csv('Dataset Iris.csv', delimiter=';', header=0)"
   ]
  },
  {
   "cell_type": "code",
   "execution_count": 3,
   "id": "1acbf160",
   "metadata": {},
   "outputs": [
    {
     "data": {
      "text/html": [
       "<div>\n",
       "<style scoped>\n",
       "    .dataframe tbody tr th:only-of-type {\n",
       "        vertical-align: middle;\n",
       "    }\n",
       "\n",
       "    .dataframe tbody tr th {\n",
       "        vertical-align: top;\n",
       "    }\n",
       "\n",
       "    .dataframe thead th {\n",
       "        text-align: right;\n",
       "    }\n",
       "</style>\n",
       "<table border=\"1\" class=\"dataframe\">\n",
       "  <thead>\n",
       "    <tr style=\"text-align: right;\">\n",
       "      <th></th>\n",
       "      <th>Id</th>\n",
       "      <th>SepalLengthCm</th>\n",
       "      <th>SepalWidthCm</th>\n",
       "      <th>PetalLengthCm</th>\n",
       "      <th>PetalWidthCm</th>\n",
       "      <th>Species</th>\n",
       "    </tr>\n",
       "  </thead>\n",
       "  <tbody>\n",
       "    <tr>\n",
       "      <th>0</th>\n",
       "      <td>1</td>\n",
       "      <td>7.00</td>\n",
       "      <td>3.02</td>\n",
       "      <td>4.07</td>\n",
       "      <td>1.04</td>\n",
       "      <td>Iris-versicolor</td>\n",
       "    </tr>\n",
       "    <tr>\n",
       "      <th>1</th>\n",
       "      <td>2</td>\n",
       "      <td>6.04</td>\n",
       "      <td>3.02</td>\n",
       "      <td>4.05</td>\n",
       "      <td>1.05</td>\n",
       "      <td>Iris-versicolor</td>\n",
       "    </tr>\n",
       "    <tr>\n",
       "      <th>2</th>\n",
       "      <td>3</td>\n",
       "      <td>6.09</td>\n",
       "      <td>3.01</td>\n",
       "      <td>4.09</td>\n",
       "      <td>1.05</td>\n",
       "      <td>Iris-versicolor</td>\n",
       "    </tr>\n",
       "    <tr>\n",
       "      <th>3</th>\n",
       "      <td>4</td>\n",
       "      <td>5.05</td>\n",
       "      <td>2.03</td>\n",
       "      <td>4.00</td>\n",
       "      <td>1.03</td>\n",
       "      <td>Iris-versicolor</td>\n",
       "    </tr>\n",
       "    <tr>\n",
       "      <th>4</th>\n",
       "      <td>5</td>\n",
       "      <td>6.05</td>\n",
       "      <td>2.08</td>\n",
       "      <td>4.06</td>\n",
       "      <td>1.05</td>\n",
       "      <td>Iris-versicolor</td>\n",
       "    </tr>\n",
       "  </tbody>\n",
       "</table>\n",
       "</div>"
      ],
      "text/plain": [
       "   Id  SepalLengthCm  SepalWidthCm  PetalLengthCm  PetalWidthCm  \\\n",
       "0   1           7.00          3.02           4.07          1.04   \n",
       "1   2           6.04          3.02           4.05          1.05   \n",
       "2   3           6.09          3.01           4.09          1.05   \n",
       "3   4           5.05          2.03           4.00          1.03   \n",
       "4   5           6.05          2.08           4.06          1.05   \n",
       "\n",
       "           Species  \n",
       "0  Iris-versicolor  \n",
       "1  Iris-versicolor  \n",
       "2  Iris-versicolor  \n",
       "3  Iris-versicolor  \n",
       "4  Iris-versicolor  "
      ]
     },
     "execution_count": 3,
     "metadata": {},
     "output_type": "execute_result"
    }
   ],
   "source": [
    "irisDataset.head()"
   ]
  },
  {
   "cell_type": "code",
   "execution_count": 4,
   "id": "b79773d9",
   "metadata": {},
   "outputs": [],
   "source": [
    "#Mengubah kelas (kolom \"Species\") dari String ke Unique-Integer\n",
    "irisDataset[\"Species\"] = pd.factorize(irisDataset.Species)[0]"
   ]
  },
  {
   "cell_type": "code",
   "execution_count": 5,
   "id": "cffeff6d",
   "metadata": {},
   "outputs": [
    {
     "data": {
      "text/html": [
       "<div>\n",
       "<style scoped>\n",
       "    .dataframe tbody tr th:only-of-type {\n",
       "        vertical-align: middle;\n",
       "    }\n",
       "\n",
       "    .dataframe tbody tr th {\n",
       "        vertical-align: top;\n",
       "    }\n",
       "\n",
       "    .dataframe thead th {\n",
       "        text-align: right;\n",
       "    }\n",
       "</style>\n",
       "<table border=\"1\" class=\"dataframe\">\n",
       "  <thead>\n",
       "    <tr style=\"text-align: right;\">\n",
       "      <th></th>\n",
       "      <th>Id</th>\n",
       "      <th>SepalLengthCm</th>\n",
       "      <th>SepalWidthCm</th>\n",
       "      <th>PetalLengthCm</th>\n",
       "      <th>PetalWidthCm</th>\n",
       "      <th>Species</th>\n",
       "    </tr>\n",
       "  </thead>\n",
       "  <tbody>\n",
       "    <tr>\n",
       "      <th>0</th>\n",
       "      <td>1</td>\n",
       "      <td>7.00</td>\n",
       "      <td>3.02</td>\n",
       "      <td>4.07</td>\n",
       "      <td>1.04</td>\n",
       "      <td>0</td>\n",
       "    </tr>\n",
       "    <tr>\n",
       "      <th>1</th>\n",
       "      <td>2</td>\n",
       "      <td>6.04</td>\n",
       "      <td>3.02</td>\n",
       "      <td>4.05</td>\n",
       "      <td>1.05</td>\n",
       "      <td>0</td>\n",
       "    </tr>\n",
       "    <tr>\n",
       "      <th>2</th>\n",
       "      <td>3</td>\n",
       "      <td>6.09</td>\n",
       "      <td>3.01</td>\n",
       "      <td>4.09</td>\n",
       "      <td>1.05</td>\n",
       "      <td>0</td>\n",
       "    </tr>\n",
       "    <tr>\n",
       "      <th>3</th>\n",
       "      <td>4</td>\n",
       "      <td>5.05</td>\n",
       "      <td>2.03</td>\n",
       "      <td>4.00</td>\n",
       "      <td>1.03</td>\n",
       "      <td>0</td>\n",
       "    </tr>\n",
       "    <tr>\n",
       "      <th>4</th>\n",
       "      <td>5</td>\n",
       "      <td>6.05</td>\n",
       "      <td>2.08</td>\n",
       "      <td>4.06</td>\n",
       "      <td>1.05</td>\n",
       "      <td>0</td>\n",
       "    </tr>\n",
       "  </tbody>\n",
       "</table>\n",
       "</div>"
      ],
      "text/plain": [
       "   Id  SepalLengthCm  SepalWidthCm  PetalLengthCm  PetalWidthCm  Species\n",
       "0   1           7.00          3.02           4.07          1.04        0\n",
       "1   2           6.04          3.02           4.05          1.05        0\n",
       "2   3           6.09          3.01           4.09          1.05        0\n",
       "3   4           5.05          2.03           4.00          1.03        0\n",
       "4   5           6.05          2.08           4.06          1.05        0"
      ]
     },
     "execution_count": 5,
     "metadata": {},
     "output_type": "execute_result"
    }
   ],
   "source": [
    "irisDataset.head()"
   ]
  },
  {
   "cell_type": "code",
   "execution_count": 6,
   "id": "432ee3c6",
   "metadata": {},
   "outputs": [
    {
     "name": "stdout",
     "output_type": "stream",
     "text": [
      "     Id  SepalLengthCm  SepalWidthCm  PetalLengthCm  PetalWidthCm  Species\n",
      "0     1           7.00          3.02           4.07          1.04        0\n",
      "1     2           6.04          3.02           4.05          1.05        0\n",
      "2     3           6.09          3.01           4.09          1.05        0\n",
      "3     4           5.05          2.03           4.00          1.03        0\n",
      "4     5           6.05          2.08           4.06          1.05        0\n",
      "..  ...            ...           ...            ...           ...      ...\n",
      "95   96           6.07          3.00           5.02          2.03        1\n",
      "96   97           6.03          2.05           5.00          1.09        1\n",
      "97   98           6.05          3.00           5.02          2.00        1\n",
      "98   99           6.02          3.04           5.04          2.03        1\n",
      "99  100           5.09          3.00           5.01          1.08        1\n",
      "\n",
      "[100 rows x 6 columns]\n"
     ]
    }
   ],
   "source": [
    "print(irisDataset)"
   ]
  },
  {
   "cell_type": "code",
   "execution_count": 7,
   "id": "6c329a8f",
   "metadata": {},
   "outputs": [],
   "source": [
    "#Menghapus kolom \"Id\"\n",
    "irisDataset = irisDataset.drop(labels=\"Id\", axis=1)"
   ]
  },
  {
   "cell_type": "code",
   "execution_count": 8,
   "id": "39de1f9a",
   "metadata": {},
   "outputs": [
    {
     "name": "stdout",
     "output_type": "stream",
     "text": [
      "    SepalLengthCm  SepalWidthCm  PetalLengthCm  PetalWidthCm  Species\n",
      "0            7.00          3.02           4.07          1.04        0\n",
      "1            6.04          3.02           4.05          1.05        0\n",
      "2            6.09          3.01           4.09          1.05        0\n",
      "3            5.05          2.03           4.00          1.03        0\n",
      "4            6.05          2.08           4.06          1.05        0\n",
      "..            ...           ...            ...           ...      ...\n",
      "95           6.07          3.00           5.02          2.03        1\n",
      "96           6.03          2.05           5.00          1.09        1\n",
      "97           6.05          3.00           5.02          2.00        1\n",
      "98           6.02          3.04           5.04          2.03        1\n",
      "99           5.09          3.00           5.01          1.08        1\n",
      "\n",
      "[100 rows x 5 columns]\n"
     ]
    }
   ],
   "source": [
    "print(irisDataset)"
   ]
  },
  {
   "cell_type": "code",
   "execution_count": 9,
   "id": "40bceb54",
   "metadata": {},
   "outputs": [],
   "source": [
    "#Mengubah dataFrame ke array Numpy\n",
    "irisDataset = irisDataset.to_numpy()"
   ]
  },
  {
   "cell_type": "code",
   "execution_count": 10,
   "id": "d7f8a475",
   "metadata": {},
   "outputs": [
    {
     "name": "stdout",
     "output_type": "stream",
     "text": [
      "[[7.   3.02 4.07 1.04 0.  ]\n",
      " [6.04 3.02 4.05 1.05 0.  ]\n",
      " [6.09 3.01 4.09 1.05 0.  ]\n",
      " [5.05 2.03 4.   1.03 0.  ]\n",
      " [6.05 2.08 4.06 1.05 0.  ]\n",
      " [5.07 2.08 4.05 1.03 0.  ]\n",
      " [6.03 3.03 4.07 1.06 0.  ]\n",
      " [4.09 2.04 3.03 1.   0.  ]\n",
      " [6.06 2.09 4.06 1.03 0.  ]\n",
      " [5.02 2.07 3.09 1.04 0.  ]\n",
      " [5.   2.   3.05 1.   0.  ]\n",
      " [5.09 3.   4.02 1.05 0.  ]\n",
      " [6.   2.02 4.   1.   0.  ]\n",
      " [6.01 2.09 4.07 1.04 0.  ]\n",
      " [5.06 2.09 3.06 1.03 0.  ]\n",
      " [6.07 3.01 4.04 1.04 0.  ]\n",
      " [5.06 3.   4.05 1.05 0.  ]\n",
      " [5.08 2.07 4.01 1.   0.  ]\n",
      " [6.02 2.02 4.05 1.05 0.  ]\n",
      " [5.06 2.05 3.09 1.01 0.  ]\n",
      " [5.09 3.02 4.08 1.08 0.  ]\n",
      " [6.01 2.08 4.   1.03 0.  ]\n",
      " [6.03 2.05 4.09 1.05 0.  ]\n",
      " [6.01 2.08 4.07 1.02 0.  ]\n",
      " [6.04 2.09 4.03 1.03 0.  ]\n",
      " [6.06 3.   4.04 1.04 0.  ]\n",
      " [6.08 2.08 4.08 1.04 0.  ]\n",
      " [6.07 3.   5.   1.07 0.  ]\n",
      " [6.   2.09 4.05 1.05 0.  ]\n",
      " [5.07 2.06 3.05 1.   0.  ]\n",
      " [5.05 2.04 3.08 1.01 0.  ]\n",
      " [5.05 2.04 3.07 1.   0.  ]\n",
      " [5.08 2.07 3.09 1.02 0.  ]\n",
      " [6.   2.07 5.01 1.06 0.  ]\n",
      " [5.04 3.   4.05 1.05 0.  ]\n",
      " [6.   3.04 4.05 1.06 0.  ]\n",
      " [6.07 3.01 4.07 1.05 0.  ]\n",
      " [6.03 2.03 4.04 1.03 0.  ]\n",
      " [5.06 3.   4.01 1.03 0.  ]\n",
      " [5.05 2.05 4.   1.03 0.  ]\n",
      " [5.05 2.06 4.04 1.02 0.  ]\n",
      " [6.01 3.   4.06 1.04 0.  ]\n",
      " [5.08 2.06 4.   1.02 0.  ]\n",
      " [5.   2.03 3.03 1.   0.  ]\n",
      " [5.06 2.07 4.02 1.03 0.  ]\n",
      " [5.07 3.   4.02 1.02 0.  ]\n",
      " [5.07 2.09 4.02 1.03 0.  ]\n",
      " [6.02 2.09 4.03 1.03 0.  ]\n",
      " [5.01 2.05 3.   1.01 0.  ]\n",
      " [5.07 2.08 4.01 1.03 0.  ]\n",
      " [6.03 3.03 6.   2.05 1.  ]\n",
      " [5.08 2.07 5.01 1.09 1.  ]\n",
      " [7.01 3.   5.09 2.01 1.  ]\n",
      " [6.03 2.09 5.06 1.08 1.  ]\n",
      " [6.05 3.   5.08 2.02 1.  ]\n",
      " [7.06 3.   6.06 2.01 1.  ]\n",
      " [4.09 2.05 4.05 1.07 1.  ]\n",
      " [7.03 2.09 6.03 1.08 1.  ]\n",
      " [6.07 2.05 5.08 1.08 1.  ]\n",
      " [7.02 3.06 6.01 2.05 1.  ]\n",
      " [6.05 3.02 5.01 2.   1.  ]\n",
      " [6.04 2.07 5.03 1.09 1.  ]\n",
      " [6.08 3.   5.05 2.01 1.  ]\n",
      " [5.07 2.05 5.   2.   1.  ]\n",
      " [5.08 2.08 5.01 2.04 1.  ]\n",
      " [6.04 3.02 5.03 2.03 1.  ]\n",
      " [6.05 3.   5.05 1.08 1.  ]\n",
      " [7.07 3.08 6.07 2.02 1.  ]\n",
      " [7.07 2.06 6.09 2.03 1.  ]\n",
      " [6.   2.02 5.   1.05 1.  ]\n",
      " [6.09 3.02 5.07 2.03 1.  ]\n",
      " [5.06 2.08 4.09 2.   1.  ]\n",
      " [7.07 2.08 6.07 2.   1.  ]\n",
      " [6.03 2.07 4.09 1.08 1.  ]\n",
      " [6.07 3.03 5.07 2.01 1.  ]\n",
      " [7.02 3.02 6.   1.08 1.  ]\n",
      " [6.02 2.08 4.08 1.08 1.  ]\n",
      " [6.01 3.   4.09 1.08 1.  ]\n",
      " [6.04 2.08 5.06 2.01 1.  ]\n",
      " [7.02 3.   5.08 1.06 1.  ]\n",
      " [7.04 2.08 6.01 1.09 1.  ]\n",
      " [7.09 3.08 6.04 2.   1.  ]\n",
      " [6.04 2.08 5.06 2.02 1.  ]\n",
      " [6.03 2.08 5.01 1.05 1.  ]\n",
      " [6.01 2.06 5.06 1.04 1.  ]\n",
      " [7.07 3.   6.01 2.03 1.  ]\n",
      " [6.03 3.04 5.06 2.04 1.  ]\n",
      " [6.04 3.01 5.05 1.08 1.  ]\n",
      " [6.   3.   4.08 1.08 1.  ]\n",
      " [6.09 3.01 5.04 2.01 1.  ]\n",
      " [6.07 3.01 5.06 2.04 1.  ]\n",
      " [6.09 3.01 5.01 2.03 1.  ]\n",
      " [5.08 2.07 5.01 1.09 1.  ]\n",
      " [6.08 3.02 5.09 2.03 1.  ]\n",
      " [6.07 3.03 5.07 2.05 1.  ]\n",
      " [6.07 3.   5.02 2.03 1.  ]\n",
      " [6.03 2.05 5.   1.09 1.  ]\n",
      " [6.05 3.   5.02 2.   1.  ]\n",
      " [6.02 3.04 5.04 2.03 1.  ]\n",
      " [5.09 3.   5.01 1.08 1.  ]]\n"
     ]
    }
   ],
   "source": [
    "print(irisDataset)"
   ]
  },
  {
   "cell_type": "code",
   "execution_count": 11,
   "id": "7130a1d8",
   "metadata": {},
   "outputs": [],
   "source": [
    "#Membagi Dataset => 80 baris data untuk training dan 20 baris data untuk testing\n",
    "dataTraining = np.concatenate((irisDataset[0:40, :], irisDataset[50:90, :]), \n",
    "                              axis=0)\n",
    "dataTesting = np.concatenate((irisDataset[40:50, :], irisDataset[90:100, :]), \n",
    "                             axis=0)"
   ]
  },
  {
   "cell_type": "code",
   "execution_count": 12,
   "id": "39311688",
   "metadata": {},
   "outputs": [
    {
     "name": "stdout",
     "output_type": "stream",
     "text": [
      "[[5.05 2.06 4.04 1.02 0.  ]\n",
      " [6.01 3.   4.06 1.04 0.  ]\n",
      " [5.08 2.06 4.   1.02 0.  ]\n",
      " [5.   2.03 3.03 1.   0.  ]\n",
      " [5.06 2.07 4.02 1.03 0.  ]\n",
      " [5.07 3.   4.02 1.02 0.  ]\n",
      " [5.07 2.09 4.02 1.03 0.  ]\n",
      " [6.02 2.09 4.03 1.03 0.  ]\n",
      " [5.01 2.05 3.   1.01 0.  ]\n",
      " [5.07 2.08 4.01 1.03 0.  ]\n",
      " [6.07 3.01 5.06 2.04 1.  ]\n",
      " [6.09 3.01 5.01 2.03 1.  ]\n",
      " [5.08 2.07 5.01 1.09 1.  ]\n",
      " [6.08 3.02 5.09 2.03 1.  ]\n",
      " [6.07 3.03 5.07 2.05 1.  ]\n",
      " [6.07 3.   5.02 2.03 1.  ]\n",
      " [6.03 2.05 5.   1.09 1.  ]\n",
      " [6.05 3.   5.02 2.   1.  ]\n",
      " [6.02 3.04 5.04 2.03 1.  ]\n",
      " [5.09 3.   5.01 1.08 1.  ]]\n"
     ]
    },
    {
     "data": {
      "text/plain": [
       "20"
      ]
     },
     "execution_count": 12,
     "metadata": {},
     "output_type": "execute_result"
    }
   ],
   "source": [
    "print(dataTesting)\n",
    "len(dataTesting)"
   ]
  },
  {
   "cell_type": "code",
   "execution_count": 13,
   "id": "5cc36c90",
   "metadata": {},
   "outputs": [],
   "source": [
    "#Memecah Dataset ke Input dan Label\n",
    "inputTraining = dataTraining[:, 0:4]\n",
    "inputTesting = dataTesting[:, 0:4]\n",
    "labelTraining = dataTraining[:, 4]\n",
    "labelTesting = dataTesting[:, 4]"
   ]
  },
  {
   "cell_type": "code",
   "execution_count": 14,
   "id": "be3e2699",
   "metadata": {},
   "outputs": [],
   "source": [
    "#Mendefinisikan Decision Tree Classifier\n",
    "model = tree.DecisionTreeClassifier()"
   ]
  },
  {
   "cell_type": "code",
   "execution_count": 15,
   "id": "0ed75ad6",
   "metadata": {},
   "outputs": [],
   "source": [
    "#Mentraining Model\n",
    "model = model.fit(inputTraining, labelTraining)"
   ]
  },
  {
   "cell_type": "code",
   "execution_count": 16,
   "id": "54f307aa",
   "metadata": {},
   "outputs": [
    {
     "name": "stdout",
     "output_type": "stream",
     "text": [
      "Label Sebenarnya :  [0. 0. 0. 0. 0. 0. 0. 0. 0. 0. 1. 1. 1. 1. 1. 1. 1. 1. 1. 1.]\n",
      "Hasil Prediksi :  [0. 0. 0. 0. 0. 0. 0. 0. 0. 0. 1. 1. 1. 1. 1. 1. 1. 1. 1. 1.]\n"
     ]
    }
   ],
   "source": [
    "#Memprediksi Input Data Testing\n",
    "hasilPrediksi = model.predict(inputTesting)\n",
    "print(\"Label Sebenarnya : \", labelTesting)\n",
    "print(\"Hasil Prediksi : \", hasilPrediksi)"
   ]
  },
  {
   "cell_type": "code",
   "execution_count": 17,
   "id": "9aa88d86",
   "metadata": {},
   "outputs": [
    {
     "name": "stdout",
     "output_type": "stream",
     "text": [
      "Prediksi Benar : 20 data\n",
      "Prediksi Salah : 0 data\n",
      "Akurasi : 100.0 %\n"
     ]
    }
   ],
   "source": [
    "#Menghitung Akurasi\n",
    "prediksiBenar = (hasilPrediksi == labelTesting).sum()\n",
    "prediksiSalah = (hasilPrediksi != labelTesting).sum()\n",
    "print(\"Prediksi Benar :\", prediksiBenar, \"data\")\n",
    "print(\"Prediksi Salah :\", prediksiSalah, \"data\")\n",
    "print(\"Akurasi :\", prediksiBenar/(prediksiBenar+prediksiSalah) * 100, \"%\")"
   ]
  },
  {
   "cell_type": "code",
   "execution_count": null,
   "id": "7ccd5e7e",
   "metadata": {},
   "outputs": [],
   "source": []
  }
 ],
 "metadata": {
  "kernelspec": {
   "display_name": "Python 3 (ipykernel)",
   "language": "python",
   "name": "python3"
  },
  "language_info": {
   "codemirror_mode": {
    "name": "ipython",
    "version": 3
   },
   "file_extension": ".py",
   "mimetype": "text/x-python",
   "name": "python",
   "nbconvert_exporter": "python",
   "pygments_lexer": "ipython3",
   "version": "3.9.13"
  }
 },
 "nbformat": 4,
 "nbformat_minor": 5
}
