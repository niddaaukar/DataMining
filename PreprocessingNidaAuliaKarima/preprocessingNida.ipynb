{
  "nbformat": 4,
  "nbformat_minor": 0,
  "metadata": {
    "colab": {
      "provenance": []
    },
    "kernelspec": {
      "name": "python3",
      "display_name": "Python 3"
    },
    "language_info": {
      "name": "python"
    }
  },
  "cells": [
    {
      "cell_type": "code",
      "execution_count": 38,
      "metadata": {
        "id": "sKPWbTo_pjSk"
      },
      "outputs": [],
      "source": [
        "import numpy as np\n",
        "import matplotlib.pyplot as plt\n",
        "import pandas as pd"
      ]
    },
    {
      "cell_type": "code",
      "source": [
        "dataset = pd.read_csv('Data.csv')\n",
        "x = dataset.iloc[:, :-1].values\n",
        "y = dataset.iloc[:, -1].values"
      ],
      "metadata": {
        "id": "ovBWzR9Dp2Ph"
      },
      "execution_count": 39,
      "outputs": []
    },
    {
      "cell_type": "code",
      "source": [
        "print(x)"
      ],
      "metadata": {
        "colab": {
          "base_uri": "https://localhost:8080/"
        },
        "id": "kr9C4wZqp98D",
        "outputId": "2684c645-e29e-4dd0-cdfd-a95097dc49c5"
      },
      "execution_count": 40,
      "outputs": [
        {
          "output_type": "stream",
          "name": "stdout",
          "text": [
            "[['Japan' 41.0 73000.0]\n",
            " ['Qatar' 27.0 41000.0]\n",
            " ['Philippines' 37.0 44000.0]\n",
            " ['Indonesia' 35.0 51000.0]\n",
            " ['Japan' 30.0 nan]\n",
            " ['Brazil' 35.0 28000.0]\n",
            " ['Philippines' nan 53000.0]\n",
            " ['Indonesia' 55.0 79000.0]\n",
            " ['Malaysia' 51.0 83000.0]\n",
            " ['Japan' 37.0 67000.0]]\n"
          ]
        }
      ]
    },
    {
      "cell_type": "code",
      "source": [
        "print(y)"
      ],
      "metadata": {
        "colab": {
          "base_uri": "https://localhost:8080/"
        },
        "id": "RroECuYNqCij",
        "outputId": "83add384-6f32-4f0b-a77a-577587b3676d"
      },
      "execution_count": 41,
      "outputs": [
        {
          "output_type": "stream",
          "name": "stdout",
          "text": [
            "['Yes' 'No' 'No' 'No' 'Yes' 'Yes' 'No' 'Yes' 'No' 'Yes']\n"
          ]
        }
      ]
    },
    {
      "cell_type": "code",
      "source": [
        "from sklearn.impute import SimpleImputer\n",
        "imputer = SimpleImputer(missing_values=np.nan, strategy='mean')\n",
        "imputer.fit(x[:, 1:3])\n",
        "x[:, 1:3] = imputer.transform(x[:, 1:3])"
      ],
      "metadata": {
        "id": "g6EmpRzYqIQt"
      },
      "execution_count": 42,
      "outputs": []
    },
    {
      "cell_type": "code",
      "source": [
        "print(x)"
      ],
      "metadata": {
        "colab": {
          "base_uri": "https://localhost:8080/"
        },
        "id": "EbHYRt9XqMZZ",
        "outputId": "53b510f6-9608-4d32-ff4e-3a79f73c6ee3"
      },
      "execution_count": 43,
      "outputs": [
        {
          "output_type": "stream",
          "name": "stdout",
          "text": [
            "[['Japan' 41.0 73000.0]\n",
            " ['Qatar' 27.0 41000.0]\n",
            " ['Philippines' 37.0 44000.0]\n",
            " ['Indonesia' 35.0 51000.0]\n",
            " ['Japan' 30.0 57666.666666666664]\n",
            " ['Brazil' 35.0 28000.0]\n",
            " ['Philippines' 38.666666666666664 53000.0]\n",
            " ['Indonesia' 55.0 79000.0]\n",
            " ['Malaysia' 51.0 83000.0]\n",
            " ['Japan' 37.0 67000.0]]\n"
          ]
        }
      ]
    },
    {
      "cell_type": "code",
      "source": [
        "from sklearn.compose import ColumnTransformer\n",
        "from sklearn.preprocessing import OneHotEncoder\n",
        "ct = ColumnTransformer(transformers=[('encoder', OneHotEncoder(), [0])], remainder='passthrough')\n",
        "x = np.array(ct.fit_transform(x))"
      ],
      "metadata": {
        "id": "XtYvNENxqP4C"
      },
      "execution_count": 44,
      "outputs": []
    },
    {
      "cell_type": "code",
      "source": [
        "print(x)"
      ],
      "metadata": {
        "colab": {
          "base_uri": "https://localhost:8080/"
        },
        "id": "JHJ2C4SEqVLP",
        "outputId": "87f3b541-92b6-419d-f1a3-6a2dbbd9d634"
      },
      "execution_count": 45,
      "outputs": [
        {
          "output_type": "stream",
          "name": "stdout",
          "text": [
            "[[0.0 0.0 1.0 0.0 0.0 0.0 41.0 73000.0]\n",
            " [0.0 0.0 0.0 0.0 0.0 1.0 27.0 41000.0]\n",
            " [0.0 0.0 0.0 0.0 1.0 0.0 37.0 44000.0]\n",
            " [0.0 1.0 0.0 0.0 0.0 0.0 35.0 51000.0]\n",
            " [0.0 0.0 1.0 0.0 0.0 0.0 30.0 57666.666666666664]\n",
            " [1.0 0.0 0.0 0.0 0.0 0.0 35.0 28000.0]\n",
            " [0.0 0.0 0.0 0.0 1.0 0.0 38.666666666666664 53000.0]\n",
            " [0.0 1.0 0.0 0.0 0.0 0.0 55.0 79000.0]\n",
            " [0.0 0.0 0.0 1.0 0.0 0.0 51.0 83000.0]\n",
            " [0.0 0.0 1.0 0.0 0.0 0.0 37.0 67000.0]]\n"
          ]
        }
      ]
    },
    {
      "cell_type": "code",
      "source": [
        "from sklearn.preprocessing import LabelEncoder\n",
        "le = LabelEncoder()\n",
        "y = le.fit_transform(y)"
      ],
      "metadata": {
        "id": "BKGBtIlgukUt"
      },
      "execution_count": 46,
      "outputs": []
    },
    {
      "cell_type": "code",
      "source": [
        "print(y)"
      ],
      "metadata": {
        "colab": {
          "base_uri": "https://localhost:8080/"
        },
        "id": "aPikUMlpurHO",
        "outputId": "bd318f1c-3790-4ef4-e26f-101af97cdcfc"
      },
      "execution_count": 47,
      "outputs": [
        {
          "output_type": "stream",
          "name": "stdout",
          "text": [
            "[1 0 0 0 1 1 0 1 0 1]\n"
          ]
        }
      ]
    },
    {
      "cell_type": "code",
      "source": [
        "from sklearn.model_selection import train_test_split\n",
        "x_train, x_test, y_train, y_test = train_test_split(x, y, test_size = 0.2, random_state = 1)"
      ],
      "metadata": {
        "id": "AQFxoXBRuvzC"
      },
      "execution_count": 48,
      "outputs": []
    },
    {
      "cell_type": "code",
      "source": [
        "print(x_train)"
      ],
      "metadata": {
        "colab": {
          "base_uri": "https://localhost:8080/"
        },
        "id": "qltWo1YHuz3r",
        "outputId": "d01a2dbe-50ab-4866-a675-00fa5eb70687"
      },
      "execution_count": 49,
      "outputs": [
        {
          "output_type": "stream",
          "name": "stdout",
          "text": [
            "[[0.0 0.0 0.0 0.0 1.0 0.0 38.666666666666664 53000.0]\n",
            " [0.0 0.0 1.0 0.0 0.0 0.0 30.0 57666.666666666664]\n",
            " [0.0 0.0 1.0 0.0 0.0 0.0 41.0 73000.0]\n",
            " [0.0 1.0 0.0 0.0 0.0 0.0 35.0 51000.0]\n",
            " [0.0 0.0 0.0 0.0 0.0 1.0 27.0 41000.0]\n",
            " [0.0 1.0 0.0 0.0 0.0 0.0 55.0 79000.0]\n",
            " [0.0 0.0 0.0 1.0 0.0 0.0 51.0 83000.0]\n",
            " [1.0 0.0 0.0 0.0 0.0 0.0 35.0 28000.0]]\n"
          ]
        }
      ]
    },
    {
      "cell_type": "code",
      "source": [
        "print(x_test)"
      ],
      "metadata": {
        "colab": {
          "base_uri": "https://localhost:8080/"
        },
        "id": "c5pB9Rd3u4Dj",
        "outputId": "37dbe051-ec7f-4ef7-c9cd-49b377dd3588"
      },
      "execution_count": 50,
      "outputs": [
        {
          "output_type": "stream",
          "name": "stdout",
          "text": [
            "[[0.0 0.0 0.0 0.0 1.0 0.0 37.0 44000.0]\n",
            " [0.0 0.0 1.0 0.0 0.0 0.0 37.0 67000.0]]\n"
          ]
        }
      ]
    },
    {
      "cell_type": "code",
      "source": [
        "print(y_train)"
      ],
      "metadata": {
        "colab": {
          "base_uri": "https://localhost:8080/"
        },
        "id": "UPc45p9Bu_fR",
        "outputId": "44b8993e-1ab7-4e9d-a852-5a2472da58c5"
      },
      "execution_count": 51,
      "outputs": [
        {
          "output_type": "stream",
          "name": "stdout",
          "text": [
            "[0 1 1 0 0 1 0 1]\n"
          ]
        }
      ]
    },
    {
      "cell_type": "code",
      "source": [
        "print(y_test)"
      ],
      "metadata": {
        "colab": {
          "base_uri": "https://localhost:8080/"
        },
        "id": "mXFrjVK3vDVb",
        "outputId": "624f3557-7d06-454d-cc2f-3d7703f3ded6"
      },
      "execution_count": 52,
      "outputs": [
        {
          "output_type": "stream",
          "name": "stdout",
          "text": [
            "[0 1]\n"
          ]
        }
      ]
    },
    {
      "cell_type": "code",
      "source": [
        "from sklearn.preprocessing import StandardScaler\n",
        "sc = StandardScaler()\n",
        "x_train[:, 3:] = sc.fit_transform(x_train[:, 3:])\n",
        "x_test[:, 3:] = sc.transform(x_test[:, 3:])"
      ],
      "metadata": {
        "id": "MLLlzEaFvFJ3"
      },
      "execution_count": 53,
      "outputs": []
    },
    {
      "cell_type": "code",
      "source": [
        "print(x_train)"
      ],
      "metadata": {
        "colab": {
          "base_uri": "https://localhost:8080/"
        },
        "id": "oVT6dsaPvJLr",
        "outputId": "62b3c611-46b4-40b0-a7f7-9fa3ad41e495"
      },
      "execution_count": 54,
      "outputs": [
        {
          "output_type": "stream",
          "name": "stdout",
          "text": [
            "[[0.0 0.0 0.0 -0.3779644730092272 2.6457513110645903 -0.3779644730092272\n",
            "  -0.04583685080997373 -0.291509957406274]\n",
            " [0.0 0.0 1.0 -0.3779644730092272 -0.3779644730092272 -0.3779644730092272\n",
            "  -0.9992433476574325 -0.03031703557025239]\n",
            " [0.0 0.0 1.0 -0.3779644730092272 -0.3779644730092272 -0.3779644730092272\n",
            "  0.21084951372588087 0.8278882790338192]\n",
            " [0.0 1.0 0.0 -0.3779644730092272 -0.3779644730092272 -0.3779644730092272\n",
            "  -0.4492011379377446 -0.40344978105028334]\n",
            " [0.0 0.0 0.0 -0.3779644730092272 -0.3779644730092272 2.6457513110645903\n",
            "  -1.3292686734892452 -0.96314889927033]\n",
            " [0.0 1.0 0.0 -0.3779644730092272 -0.3779644730092272 -0.3779644730092272\n",
            "  1.750967700941007 1.1637077499658472]\n",
            " [0.0 0.0 0.0 2.6457513110645903 -0.3779644730092272 -0.3779644730092272\n",
            "  1.3109339331652565 1.387587397253866]\n",
            " [1.0 0.0 0.0 -0.3779644730092272 -0.3779644730092272 -0.3779644730092272\n",
            "  -0.4492011379377446 -1.6907577529563906]]\n"
          ]
        }
      ]
    },
    {
      "cell_type": "code",
      "source": [
        "print(x_test)"
      ],
      "metadata": {
        "colab": {
          "base_uri": "https://localhost:8080/"
        },
        "id": "41atThbovOJm",
        "outputId": "5669da70-6986-4810-fa9b-04c3fd141da8"
      },
      "execution_count": 55,
      "outputs": [
        {
          "output_type": "stream",
          "name": "stdout",
          "text": [
            "[[0.0 0.0 0.0 -0.3779644730092272 2.6457513110645903 -0.3779644730092272\n",
            "  -0.22918425404986942 -0.795239163804316]\n",
            " [0.0 0.0 1.0 -0.3779644730092272 -0.3779644730092272 -0.3779644730092272\n",
            "  -0.22918425404986942 0.49206880810179127]]\n"
          ]
        }
      ]
    }
  ]
}