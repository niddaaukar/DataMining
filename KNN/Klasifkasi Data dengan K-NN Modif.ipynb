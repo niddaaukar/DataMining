{
 "cells": [
  {
   "cell_type": "code",
   "execution_count": 1,
   "id": "625a3f09",
   "metadata": {},
   "outputs": [],
   "source": [
    "import numpy as np\n",
    "import matplotlib.pyplot as plt\n",
    "import pandas as pd"
   ]
  },
  {
   "cell_type": "code",
   "execution_count": 2,
   "id": "37a957d5",
   "metadata": {},
   "outputs": [],
   "source": [
    "dataset = pd.read_csv('DATA_RUMAH.csv')"
   ]
  },
  {
   "cell_type": "code",
   "execution_count": 3,
   "id": "515a46ef",
   "metadata": {},
   "outputs": [
    {
     "data": {
      "text/html": [
       "<div>\n",
       "<style scoped>\n",
       "    .dataframe tbody tr th:only-of-type {\n",
       "        vertical-align: middle;\n",
       "    }\n",
       "\n",
       "    .dataframe tbody tr th {\n",
       "        vertical-align: top;\n",
       "    }\n",
       "\n",
       "    .dataframe thead th {\n",
       "        text-align: right;\n",
       "    }\n",
       "</style>\n",
       "<table border=\"1\" class=\"dataframe\">\n",
       "  <thead>\n",
       "    <tr style=\"text-align: right;\">\n",
       "      <th></th>\n",
       "      <th>NO</th>\n",
       "      <th>NAMA RUMAH</th>\n",
       "      <th>HARGA</th>\n",
       "      <th>LB</th>\n",
       "      <th>LT</th>\n",
       "      <th>KT</th>\n",
       "      <th>KM</th>\n",
       "      <th>GRS</th>\n",
       "    </tr>\n",
       "  </thead>\n",
       "  <tbody>\n",
       "    <tr>\n",
       "      <th>0</th>\n",
       "      <td>1</td>\n",
       "      <td>Rumah Murah Hook Tebet Timur, Tebet, Jakarta S...</td>\n",
       "      <td>3800000000</td>\n",
       "      <td>220</td>\n",
       "      <td>220</td>\n",
       "      <td>3</td>\n",
       "      <td>3</td>\n",
       "      <td>0</td>\n",
       "    </tr>\n",
       "    <tr>\n",
       "      <th>1</th>\n",
       "      <td>2</td>\n",
       "      <td>Rumah Modern di Tebet dekat Stasiun, Tebet, Ja...</td>\n",
       "      <td>4600000000</td>\n",
       "      <td>180</td>\n",
       "      <td>137</td>\n",
       "      <td>4</td>\n",
       "      <td>3</td>\n",
       "      <td>2</td>\n",
       "    </tr>\n",
       "    <tr>\n",
       "      <th>2</th>\n",
       "      <td>3</td>\n",
       "      <td>Rumah Mewah 2 Lantai Hanya 3 Menit Ke Tebet, T...</td>\n",
       "      <td>3000000000</td>\n",
       "      <td>267</td>\n",
       "      <td>250</td>\n",
       "      <td>4</td>\n",
       "      <td>4</td>\n",
       "      <td>4</td>\n",
       "    </tr>\n",
       "    <tr>\n",
       "      <th>3</th>\n",
       "      <td>4</td>\n",
       "      <td>Rumah Baru Tebet, Tebet, Jakarta Selatan</td>\n",
       "      <td>430000000</td>\n",
       "      <td>40</td>\n",
       "      <td>25</td>\n",
       "      <td>2</td>\n",
       "      <td>2</td>\n",
       "      <td>0</td>\n",
       "    </tr>\n",
       "    <tr>\n",
       "      <th>4</th>\n",
       "      <td>5</td>\n",
       "      <td>Rumah Bagus Tebet komp Gudang Peluru lt 350m, ...</td>\n",
       "      <td>9000000000</td>\n",
       "      <td>400</td>\n",
       "      <td>355</td>\n",
       "      <td>6</td>\n",
       "      <td>5</td>\n",
       "      <td>3</td>\n",
       "    </tr>\n",
       "  </tbody>\n",
       "</table>\n",
       "</div>"
      ],
      "text/plain": [
       "   NO                                         NAMA RUMAH       HARGA   LB  \\\n",
       "0   1  Rumah Murah Hook Tebet Timur, Tebet, Jakarta S...  3800000000  220   \n",
       "1   2  Rumah Modern di Tebet dekat Stasiun, Tebet, Ja...  4600000000  180   \n",
       "2   3  Rumah Mewah 2 Lantai Hanya 3 Menit Ke Tebet, T...  3000000000  267   \n",
       "3   4           Rumah Baru Tebet, Tebet, Jakarta Selatan   430000000   40   \n",
       "4   5  Rumah Bagus Tebet komp Gudang Peluru lt 350m, ...  9000000000  400   \n",
       "\n",
       "    LT  KT  KM  GRS  \n",
       "0  220   3   3    0  \n",
       "1  137   4   3    2  \n",
       "2  250   4   4    4  \n",
       "3   25   2   2    0  \n",
       "4  355   6   5    3  "
      ]
     },
     "execution_count": 3,
     "metadata": {},
     "output_type": "execute_result"
    }
   ],
   "source": [
    "dataset.head()"
   ]
  },
  {
   "cell_type": "code",
   "execution_count": 4,
   "id": "03afd9cc",
   "metadata": {},
   "outputs": [],
   "source": [
    "x = dataset.iloc[:, [2,3]].values\n",
    "y = dataset.iloc[:, -1].values"
   ]
  },
  {
   "cell_type": "code",
   "execution_count": 5,
   "id": "09d3933f",
   "metadata": {},
   "outputs": [
    {
     "name": "stdout",
     "output_type": "stream",
     "text": [
      "[[ 3800000000         220]\n",
      " [ 4600000000         180]\n",
      " [ 3000000000         267]\n",
      " ...\n",
      " [ 4000000000         139]\n",
      " [19000000000         360]\n",
      " [10500000000         420]]\n"
     ]
    }
   ],
   "source": [
    "print(x)"
   ]
  },
  {
   "cell_type": "code",
   "execution_count": 6,
   "id": "7bdb4139",
   "metadata": {},
   "outputs": [
    {
     "name": "stdout",
     "output_type": "stream",
     "text": [
      "[0 2 4 ... 1 0 2]\n"
     ]
    }
   ],
   "source": [
    "print(y)"
   ]
  },
  {
   "cell_type": "code",
   "execution_count": 7,
   "id": "f7dd6cb0",
   "metadata": {},
   "outputs": [],
   "source": [
    "from sklearn.model_selection import train_test_split\n",
    "x_train, x_test, y_train, y_test = train_test_split(x, y, test_size = 0.25, random_state = 0)"
   ]
  },
  {
   "cell_type": "code",
   "execution_count": 8,
   "id": "9a0d1725",
   "metadata": {},
   "outputs": [
    {
     "name": "stdout",
     "output_type": "stream",
     "text": [
      "[[ 8000000000         260]\n",
      " [ 3000000000         267]\n",
      " [16500000000         800]\n",
      " ...\n",
      " [ 8900000000         300]\n",
      " [ 7500000000         350]\n",
      " [ 6500000000         300]]\n"
     ]
    }
   ],
   "source": [
    "print(x_train)"
   ]
  },
  {
   "cell_type": "code",
   "execution_count": 9,
   "id": "5b1eaa52",
   "metadata": {},
   "outputs": [
    {
     "data": {
      "text/plain": [
       "757"
      ]
     },
     "execution_count": 9,
     "metadata": {},
     "output_type": "execute_result"
    }
   ],
   "source": [
    "len(x_train)"
   ]
  },
  {
   "cell_type": "code",
   "execution_count": 10,
   "id": "c5941659",
   "metadata": {},
   "outputs": [
    {
     "data": {
      "text/plain": [
       "1010"
      ]
     },
     "execution_count": 10,
     "metadata": {},
     "output_type": "execute_result"
    }
   ],
   "source": [
    "len(x)"
   ]
  },
  {
   "cell_type": "code",
   "execution_count": 11,
   "id": "77fcef27",
   "metadata": {},
   "outputs": [
    {
     "data": {
      "text/plain": [
       "253"
      ]
     },
     "execution_count": 11,
     "metadata": {},
     "output_type": "execute_result"
    }
   ],
   "source": [
    "len(x_test)"
   ]
  },
  {
   "cell_type": "code",
   "execution_count": 12,
   "id": "e8c71526",
   "metadata": {},
   "outputs": [
    {
     "data": {
      "text/plain": [
       "1010"
      ]
     },
     "execution_count": 12,
     "metadata": {},
     "output_type": "execute_result"
    }
   ],
   "source": [
    "len(y)"
   ]
  },
  {
   "cell_type": "code",
   "execution_count": 13,
   "id": "184661d3",
   "metadata": {},
   "outputs": [
    {
     "data": {
      "text/plain": [
       "253"
      ]
     },
     "execution_count": 13,
     "metadata": {},
     "output_type": "execute_result"
    }
   ],
   "source": [
    "len(y_test)"
   ]
  },
  {
   "cell_type": "code",
   "execution_count": 14,
   "id": "9ef6698f",
   "metadata": {},
   "outputs": [
    {
     "data": {
      "text/plain": [
       "757"
      ]
     },
     "execution_count": 14,
     "metadata": {},
     "output_type": "execute_result"
    }
   ],
   "source": [
    "len(y_train)"
   ]
  },
  {
   "cell_type": "code",
   "execution_count": 15,
   "id": "a2363d6d",
   "metadata": {},
   "outputs": [],
   "source": [
    "from sklearn.preprocessing import StandardScaler\n",
    "sc = StandardScaler()\n",
    "x_train = sc.fit_transform(x_train)\n",
    "x_test = sc.transform(x_test)"
   ]
  },
  {
   "cell_type": "code",
   "execution_count": 16,
   "id": "169b9a5e",
   "metadata": {},
   "outputs": [
    {
     "name": "stdout",
     "output_type": "stream",
     "text": [
      "[[ 0.05174082 -0.09726854]\n",
      " [-0.65407408 -0.05722923]\n",
      " [ 1.25162615  2.99147781]\n",
      " ...\n",
      " [ 0.1787875   0.13152749]\n",
      " [-0.01884067  0.41752252]\n",
      " [-0.16000365  0.13152749]]\n"
     ]
    }
   ],
   "source": [
    "print(x_train)"
   ]
  },
  {
   "cell_type": "code",
   "execution_count": 17,
   "id": "d1604e4b",
   "metadata": {},
   "outputs": [
    {
     "name": "stdout",
     "output_type": "stream",
     "text": [
      "[[-5.69376290e-01 -7.26457606e-01]\n",
      " [ 7.57414558e-01  7.03517555e-01]\n",
      " [-1.24712903e-01  4.17522523e-01]\n",
      " [-5.83492588e-01 -1.06965164e+00]\n",
      " [-9.80160562e-01 -1.06965164e+00]\n",
      " [-6.11725184e-01 -6.69258600e-01]\n",
      " [-4.28213310e-01 -5.54860587e-01]\n",
      " [-6.61132227e-01 -8.12256116e-01]\n",
      " [-5.83492588e-01 -3.83263567e-01]\n",
      " [-3.99980714e-01 -1.54467541e-01]\n",
      " [-5.41143694e-01 -7.26457606e-01]\n",
      " [-1.60003648e-01  1.31527491e-01]\n",
      " [ 2.16918552e+00  4.13545794e+00]\n",
      " [-2.16468840e-01  6.46318549e-01]\n",
      " [-1.88406684e-02  1.16110961e+00]\n",
      " [-8.94221584e-02  1.27550762e+00]\n",
      " [-2.02352542e-01 -9.72685350e-02]\n",
      " [-9.71690783e-01 -1.01245264e+00]\n",
      " [ 4.85128214e+00  3.27747285e+00]\n",
      " [-5.27027396e-01 -5.60580487e-01]\n",
      " [-4.70562204e-01 -5.54860587e-01]\n",
      " [-4.28213310e-01 -5.54860587e-01]\n",
      " [-2.30585138e-01 -7.26457606e-01]\n",
      " [-5.12911098e-01 -4.40462574e-01]\n",
      " [-5.12911098e-01 -3.48944163e-01]\n",
      " [-1.31771052e-01 -1.54467541e-01]\n",
      " [-5.34085545e-01 -6.69258600e-01]\n",
      " [-5.27027396e-01 -7.26457606e-01]\n",
      " [-1.60003648e-01 -3.26064561e-01]\n",
      " [ 1.92903802e-01  1.10391060e+00]\n",
      " [-5.83492588e-01 -1.54467541e-01]\n",
      " [-5.83492588e-01 -2.11666548e-01]\n",
      " [ 4.85128214e+00  3.56346788e+00]\n",
      " [-1.88406684e-02  1.27550762e+00]\n",
      " [-2.30585138e-01  9.89512588e-01]\n",
      " [-6.39957780e-01 -2.97465058e-01]\n",
      " [-3.71748118e-01 -1.54467541e-01]\n",
      " [-8.09494519e-01 -7.26457606e-01]\n",
      " [ 3.15732638e+00  2.99147781e+00]\n",
      " [-7.38771866e-01 -1.01245264e+00]\n",
      " [-4.42329608e-01 -4.40462574e-01]\n",
      " [-7.24655568e-01 -7.26457606e-01]\n",
      " [-4.56445906e-01 -1.54467541e-01]\n",
      " [-3.01166628e-01 -6.12059593e-01]\n",
      " [-7.24655568e-01 -8.98054626e-01]\n",
      " [-5.48201843e-01  1.31527491e-01]\n",
      " [-6.11725184e-01 -8.98054626e-01]\n",
      " [-7.52888164e-01 -6.69258600e-01]\n",
      " [ 1.46337062e+00  2.99147781e+00]\n",
      " [-5.83492588e-01 -1.54467541e-01]\n",
      " [ 7.57555721e-01 -1.54467541e-01]\n",
      " [-5.12911098e-01 -4.40462574e-01]\n",
      " [-1.60003648e-01 -9.15214327e-01]\n",
      " [ 9.69300191e-01  1.84749768e+00]\n",
      " [ 4.75229761e-01  1.71294779e-02]\n",
      " [-6.82306674e-01 -6.69258600e-01]\n",
      " [-8.37585952e-01 -7.03578004e-01]\n",
      " [-4.28213310e-01 -3.54664064e-01]\n",
      " [ 1.01164909e+00  1.27550762e+00]\n",
      " [-5.83492588e-01 -7.26457606e-01]\n",
      " [-5.41143694e-01 -6.69258600e-01]\n",
      " [-1.60003648e-01 -2.86297273e-02]\n",
      " [-4.70732644e-02  1.27550762e+00]\n",
      " [ 1.60453360e+00  4.74721530e-01]\n",
      " [ 5.17408216e-02 -4.40462574e-01]\n",
      " [-8.94221584e-02 -5.54860587e-01]\n",
      " [-8.65818548e-01 -8.98054626e-01]\n",
      " [-5.48201843e-01 -7.26457606e-01]\n",
      " [-5.83492588e-01 -2.97465058e-01]\n",
      " [-9.71690783e-01 -1.13829045e+00]\n",
      " [ 2.63485291e-01  6.17719046e-01]\n",
      " [-4.14097012e-01 -5.54860587e-01]\n",
      " [ 6.86974231e-01  1.84749768e+00]\n",
      " [ 6.16392741e-01 -2.11666548e-01]\n",
      " [-6.25841482e-01 -6.69258600e-01]\n",
      " [-5.97608886e-01 -1.01245264e+00]\n",
      " [-6.96422972e-01 -6.69258600e-01]\n",
      " [-3.29399224e-01 -4.40462574e-01]\n",
      " [-7.38771866e-01 -1.15545015e+00]\n",
      " [-4.63504055e-01 -5.54860587e-01]\n",
      " [-3.01166628e-01 -7.43617308e-01]\n",
      " [-4.98794800e-01 -3.26064561e-01]\n",
      " [-8.30527803e-01 -1.09825115e+00]\n",
      " [ 3.86314128e+00  7.03517555e-01]\n",
      " [ 1.18104466e+00  7.03517555e-01]\n",
      " [-2.30585138e-01 -3.26064561e-01]\n",
      " [ 3.15732638e+00  2.99147781e+00]\n",
      " [-8.94051144e-01  3.14564312e-01]\n",
      " [-7.10539270e-01 -8.98054626e-01]\n",
      " [ 1.64671206e-01 -7.26457606e-01]\n",
      " [-4.42329608e-01 -7.83656613e-01]\n",
      " [-1.60003648e-01  4.17522523e-01]\n",
      " [-8.09353356e-01 -8.69455122e-01]\n",
      " [-1.60003648e-01 -1.54467541e-01]\n",
      " [-7.52888164e-01 -8.40855619e-01]\n",
      " [ 1.57613057e-01 -1.54467541e-01]\n",
      " [ 2.35082256e-02 -6.69258600e-01]\n",
      " [-8.94221584e-02  3.03124510e-01]\n",
      " [ 1.03988168e+00 -1.54467541e-01]\n",
      " [ 1.01164909e+00  1.27550762e+00]\n",
      " [ 1.92903802e-01  1.31527491e-01]\n",
      " [ 1.74569658e+00  9.32313581e-01]\n",
      " [-2.30585138e-01  1.31527491e-01]\n",
      " [-1.31771052e-01  6.46318549e-01]\n",
      " [-9.36400038e-01 -7.83656613e-01]\n",
      " [ 6.86974231e-01  1.84749768e+00]\n",
      " [ 3.86314128e+00  4.13545794e+00]\n",
      " [ 2.02802254e+00  1.31527491e-01]\n",
      " [-3.71748118e-01 -3.26064561e-01]\n",
      " [ 1.74569658e+00  2.41948775e+00]\n",
      " [-2.02352542e-01 -6.12059593e-01]\n",
      " [ 2.63485291e-01  1.31527491e-01]\n",
      " [-6.54074078e-01 -5.54860587e-01]\n",
      " [-2.44842599e-01  4.17522523e-01]\n",
      " [-5.69376290e-01 -8.98054626e-01]\n",
      " [-7.52888164e-01 -7.60777010e-01]\n",
      " [ 2.45151148e+00  1.56150265e+00]\n",
      " [-6.54074078e-01 -6.69258600e-01]\n",
      " [ 7.57555721e-01  1.84749768e+00]\n",
      " [-7.10539270e-01 -3.83263567e-01]\n",
      " [-6.54074078e-01 -4.86221779e-01]\n",
      " [ 1.64671206e-01  7.03517555e-01]\n",
      " [-3.99980714e-01  2.74525007e-01]\n",
      " [-6.54074078e-01 -4.40462574e-01]\n",
      " [ 2.73383751e+00  4.17522523e-01]\n",
      " [ 6.16392741e-01 -2.68865554e-01]\n",
      " [ 8.09803068e+00  1.31527491e-01]\n",
      " [-6.11725184e-01 -5.54860587e-01]\n",
      " [-6.11725184e-01 -8.98054626e-01]\n",
      " [-4.70562204e-01  1.31527491e-01]\n",
      " [-5.41143694e-01 -9.72685350e-02]\n",
      " [ 6.16392741e-01  1.27550762e+00]\n",
      " [-9.43458187e-01 -8.40855619e-01]\n",
      " [-6.25841482e-01 -8.98054626e-01]\n",
      " [-1.60003648e-01 -4.00695286e-02]\n",
      " [-5.41143694e-01 -4.40462574e-01]\n",
      " [-6.19489148e-01 -8.98054626e-01]\n",
      " [ 1.92903802e-01 -3.77543667e-01]\n",
      " [-5.83492588e-01 -5.66300388e-01]\n",
      " [-3.01166628e-01  4.74721530e-01]\n",
      " [-6.68190376e-01 -1.06965164e+00]\n",
      " [-5.83492588e-01 -8.98054626e-01]\n",
      " [-6.18783333e-01 -8.69455122e-01]\n",
      " [-2.30585138e-01 -2.11666548e-01]\n",
      " [-6.68190376e-01 -7.26457606e-01]\n",
      " [ 3.34066781e-01  7.03517555e-01]\n",
      " [-6.96422972e-01 -4.40462574e-01]\n",
      " [-6.68190376e-01 -6.69258600e-01]\n",
      " [-5.83492588e-01 -8.98054626e-01]\n",
      " [ 2.63485291e-01  1.27550762e+00]\n",
      " [-7.24655568e-01 -7.83656613e-01]\n",
      " [-6.96422972e-01 -8.69455122e-01]\n",
      " [-6.39957780e-01 -7.26457606e-01]\n",
      " [ 2.16918552e+00  2.70548278e+00]\n",
      " [-5.69376290e-01 -7.55057109e-01]\n",
      " [-6.61132227e-01 -8.69455122e-01]\n",
      " [ 1.64671206e-01  7.03517555e-01]\n",
      " [-6.25841482e-01 -7.26457606e-01]\n",
      " [-4.42329608e-01 -2.68865554e-01]\n",
      " [ 2.16918552e+00  2.70548278e+00]\n",
      " [-6.96422972e-01 -8.12256116e-01]\n",
      " [-2.65875883e-01  4.17522523e-01]\n",
      " [-5.12911098e-01 -6.69258600e-01]\n",
      " [ 3.29848936e+00  4.13545794e+00]\n",
      " [-5.83492588e-01 -6.69258600e-01]\n",
      " [-7.81120760e-01 -1.01245264e+00]\n",
      " [ 5.17408216e-02  1.10391060e+00]\n",
      " [-5.12911098e-01 -4.40462574e-01]\n",
      " [-7.67004462e-01 -2.91745157e-01]\n",
      " [-4.77620353e-01 -4.40462574e-01]\n",
      " [-5.27027396e-01 -4.40462574e-01]\n",
      " [-5.12911098e-01 -7.60777010e-01]\n",
      " [-5.12911098e-01 -4.74781978e-01]\n",
      " [ 3.34066781e-01  1.31527491e-01]\n",
      " [-8.94221584e-02 -3.26064561e-01]\n",
      " [-1.60003648e-01  1.31527491e-01]\n",
      " [ 2.87500042e+00  4.13545794e+00]\n",
      " [ 2.59267446e+00  1.56150265e+00]\n",
      " [ 1.64671206e-01  7.03517555e-01]\n",
      " [-5.55259992e-01 -8.40855619e-01]\n",
      " [-5.12911098e-01 -1.54467541e-01]\n",
      " [-4.98794800e-01 -5.54860587e-01]\n",
      " [ 5.17408216e-02 -1.54467541e-01]\n",
      " [-8.65818548e-01 -4.40462574e-01]\n",
      " [ 7.57555721e-01 -2.97465058e-01]\n",
      " [-4.70562204e-01 -1.54467541e-01]\n",
      " [ 2.45151148e+00  4.34682225e-01]\n",
      " [-8.09353356e-01 -8.40855619e-01]\n",
      " [ 6.86974231e-01  1.84749768e+00]\n",
      " [-8.65818548e-01 -1.01245264e+00]\n",
      " [-6.96422972e-01 -3.83263567e-01]\n",
      " [-5.83492588e-01 -7.26457606e-01]\n",
      " [-4.07038863e-01 -5.54860587e-01]\n",
      " [-5.83492588e-01 -4.97661580e-01]\n",
      " [-2.72934032e-01 -1.54467541e-01]\n",
      " [-6.82306674e-01 -7.26457606e-01]\n",
      " [-5.55259992e-01  4.17522523e-01]\n",
      " [-6.39957780e-01 -6.00619792e-01]\n",
      " [-2.87050330e-01 -1.54467541e-01]\n",
      " [-3.75983008e-01  1.31527491e-01]\n",
      " [-9.50516336e-01 -1.01245264e+00]\n",
      " [ 4.04648271e-01  8.17915568e-01]\n",
      " [-6.82306674e-01 -1.01245264e+00]\n",
      " [ 1.18104466e+00  1.41850514e+00]\n",
      " [-8.94221584e-02  1.71294779e-02]\n",
      " [ 3.76245236e-02  5.89119543e-01]\n",
      " [ 1.53395211e+00  2.99147781e+00]\n",
      " [ 2.63485291e-01  7.03517555e-01]\n",
      " [-5.83492588e-01 -4.97661580e-01]\n",
      " [ 6.86974233e-01  1.16110961e+00]\n",
      " [-4.42329608e-01 -1.54467541e-01]\n",
      " [-9.22283740e-01 -1.18404966e+00]\n",
      " [-7.81120760e-01 -5.09101382e-01]\n",
      " [ 1.39278913e+00  2.99147781e+00]\n",
      " [-7.24655568e-01 -7.83656613e-01]\n",
      " [-5.48201843e-01 -4.63342176e-01]\n",
      " [-2.30585138e-01 -7.26457606e-01]\n",
      " [-7.67004462e-01 -1.18404966e+00]\n",
      " [ 1.22322312e-01 -4.40462574e-01]\n",
      " [-1.60003648e-01  1.31527491e-01]\n",
      " [-1.31771052e-01  6.46318549e-01]\n",
      " [-5.83492588e-01 -2.68865554e-01]\n",
      " [-7.10539270e-01 -4.40462574e-01]\n",
      " [-7.10539270e-01 -8.98054626e-01]\n",
      " [-9.57574485e-01 -1.13829045e+00]\n",
      " [-5.12911098e-01 -4.40462574e-01]\n",
      " [-6.54074078e-01 -1.22980886e+00]\n",
      " [ 6.86974231e-01  1.16110961e+00]\n",
      " [-4.70562204e-01 -9.15214327e-01]\n",
      " [-5.55259992e-01 -7.26457606e-01]\n",
      " [ 1.03988168e+00  1.27550762e+00]\n",
      " [ 2.16918552e+00  4.17522523e-01]\n",
      " [ 3.34066781e-01  5.89119543e-01]\n",
      " [-7.38771866e-01 -7.43617308e-01]\n",
      " [ 5.17408216e-02 -1.43027740e-01]\n",
      " [ 1.46337062e+00 -4.40462574e-01]\n",
      " [ 5.17408216e-02  5.68967660e-03]\n",
      " [-7.59946313e-01 -8.12256116e-01]\n",
      " [ 3.05834185e-01  7.03517555e-01]\n",
      " [ 1.88685956e+00  4.17522523e-01]\n",
      " [-5.41143694e-01 -4.40462574e-01]\n",
      " [ 6.58571196e-02 -1.83067045e-01]\n",
      " [-6.75248525e-01 -6.69258600e-01]\n",
      " [-2.44701436e-01 -2.86297273e-02]\n",
      " [-8.09353356e-01 -8.12256116e-01]\n",
      " [-4.14097012e-01  1.71294779e-02]\n",
      " [-7.11950900e-01 -6.12059593e-01]\n",
      " [-1.95294393e-01 -7.26457606e-01]\n",
      " [-2.16468840e-01  5.60520039e-01]\n",
      " [-6.25841482e-01 -7.26457606e-01]\n",
      " [ 1.03988168e+00  9.89512588e-01]\n",
      " [-4.42329608e-01 -8.52295420e-01]\n",
      " [-4.42329608e-01 -5.83460090e-01]]\n"
     ]
    }
   ],
   "source": [
    "print(x_test)"
   ]
  },
  {
   "cell_type": "code",
   "execution_count": 18,
   "id": "d005c072",
   "metadata": {},
   "outputs": [
    {
     "data": {
      "text/plain": [
       "KNeighborsClassifier()"
      ]
     },
     "execution_count": 18,
     "metadata": {},
     "output_type": "execute_result"
    }
   ],
   "source": [
    "from sklearn.neighbors import KNeighborsClassifier\n",
    "classifier = KNeighborsClassifier(n_neighbors = 5, metric = 'minkowski', p=2)\n",
    "classifier.fit(x_train, y_train)"
   ]
  },
  {
   "cell_type": "code",
   "execution_count": 20,
   "id": "cdb85e85",
   "metadata": {},
   "outputs": [
    {
     "name": "stderr",
     "output_type": "stream",
     "text": [
      "C:\\Users\\acer\\anaconda3\\lib\\site-packages\\sklearn\\neighbors\\_classification.py:228: FutureWarning: Unlike other reduction functions (e.g. `skew`, `kurtosis`), the default behavior of `mode` typically preserves the axis it acts along. In SciPy 1.11.0, this behavior will change: the default value of `keepdims` will become False, the `axis` over which the statistic is taken will be eliminated, and the value None will no longer be accepted. Set `keepdims` to True or False to avoid this warning.\n",
      "  mode, _ = stats.mode(_y[neigh_ind, k], axis=1)\n"
     ]
    }
   ],
   "source": [
    "y_pred = classifier.predict(x_test)"
   ]
  },
  {
   "cell_type": "code",
   "execution_count": 21,
   "id": "b80425d0",
   "metadata": {},
   "outputs": [
    {
     "name": "stdout",
     "output_type": "stream",
     "text": [
      "[[11 10  8  0  4  0  0  0  0  0  0]\n",
      " [ 2 33 19  1  2  1  0  0  0  0  0]\n",
      " [ 8 35 47  2  4  0  0  0  0  0  1]\n",
      " [ 2  9 11  4  3  0  0  0  0  0  0]\n",
      " [ 0  5  7  1  7  1  0  0  1  0  1]\n",
      " [ 1  1  2  0  4  0  0  0  0  0  0]\n",
      " [ 0  0  0  0  1  1  0  0  0  0  1]\n",
      " [ 0  0  0  0  1  0  0  0  0  0  0]\n",
      " [ 0  0  0  0  0  0  0  0  0  0  0]\n",
      " [ 0  1  0  0  0  0  0  0  0  0  0]\n",
      " [ 0  0  0  0  0  0  0  0  0  0  0]]\n"
     ]
    }
   ],
   "source": [
    "from sklearn.metrics import confusion_matrix\n",
    "cm = confusion_matrix(y_test, y_pred)\n",
    "print(cm)"
   ]
  },
  {
   "cell_type": "code",
   "execution_count": 23,
   "id": "12633f1c",
   "metadata": {},
   "outputs": [
    {
     "name": "stderr",
     "output_type": "stream",
     "text": [
      "C:\\Users\\acer\\anaconda3\\lib\\site-packages\\sklearn\\neighbors\\_classification.py:228: FutureWarning: Unlike other reduction functions (e.g. `skew`, `kurtosis`), the default behavior of `mode` typically preserves the axis it acts along. In SciPy 1.11.0, this behavior will change: the default value of `keepdims` will become False, the `axis` over which the statistic is taken will be eliminated, and the value None will no longer be accepted. Set `keepdims` to True or False to avoid this warning.\n",
      "  mode, _ = stats.mode(_y[neigh_ind, k], axis=1)\n",
      "*c* argument looks like a single numeric RGB or RGBA sequence, which should be avoided as value-mapping will have precedence in case its length matches with *x* & *y*.  Please use the *color* keyword-argument or provide a 2D array with a single row if you intend to specify the same RGB or RGBA value for all points.\n",
      "*c* argument looks like a single numeric RGB or RGBA sequence, which should be avoided as value-mapping will have precedence in case its length matches with *x* & *y*.  Please use the *color* keyword-argument or provide a 2D array with a single row if you intend to specify the same RGB or RGBA value for all points.\n",
      "*c* argument looks like a single numeric RGB or RGBA sequence, which should be avoided as value-mapping will have precedence in case its length matches with *x* & *y*.  Please use the *color* keyword-argument or provide a 2D array with a single row if you intend to specify the same RGB or RGBA value for all points.\n",
      "*c* argument looks like a single numeric RGB or RGBA sequence, which should be avoided as value-mapping will have precedence in case its length matches with *x* & *y*.  Please use the *color* keyword-argument or provide a 2D array with a single row if you intend to specify the same RGB or RGBA value for all points.\n",
      "*c* argument looks like a single numeric RGB or RGBA sequence, which should be avoided as value-mapping will have precedence in case its length matches with *x* & *y*.  Please use the *color* keyword-argument or provide a 2D array with a single row if you intend to specify the same RGB or RGBA value for all points.\n",
      "*c* argument looks like a single numeric RGB or RGBA sequence, which should be avoided as value-mapping will have precedence in case its length matches with *x* & *y*.  Please use the *color* keyword-argument or provide a 2D array with a single row if you intend to specify the same RGB or RGBA value for all points.\n",
      "*c* argument looks like a single numeric RGB or RGBA sequence, which should be avoided as value-mapping will have precedence in case its length matches with *x* & *y*.  Please use the *color* keyword-argument or provide a 2D array with a single row if you intend to specify the same RGB or RGBA value for all points.\n",
      "*c* argument looks like a single numeric RGB or RGBA sequence, which should be avoided as value-mapping will have precedence in case its length matches with *x* & *y*.  Please use the *color* keyword-argument or provide a 2D array with a single row if you intend to specify the same RGB or RGBA value for all points.\n",
      "*c* argument looks like a single numeric RGB or RGBA sequence, which should be avoided as value-mapping will have precedence in case its length matches with *x* & *y*.  Please use the *color* keyword-argument or provide a 2D array with a single row if you intend to specify the same RGB or RGBA value for all points.\n",
      "*c* argument looks like a single numeric RGB or RGBA sequence, which should be avoided as value-mapping will have precedence in case its length matches with *x* & *y*.  Please use the *color* keyword-argument or provide a 2D array with a single row if you intend to specify the same RGB or RGBA value for all points.\n",
      "*c* argument looks like a single numeric RGB or RGBA sequence, which should be avoided as value-mapping will have precedence in case its length matches with *x* & *y*.  Please use the *color* keyword-argument or provide a 2D array with a single row if you intend to specify the same RGB or RGBA value for all points.\n"
     ]
    },
    {
     "data": {
      "image/png": "[encoded data removed]",
      "text/plain": [
       "<Figure size 640x480 with 1 Axes>"
      ]
     },
     "metadata": {},
     "output_type": "display_data"
    }
   ],
   "source": [
    "from matplotlib.colors import ListedColormap\n",
    "x_set, y_set = x_train, y_train\n",
    "x1, x2 = np.meshgrid(np.arange(start=x_set[:, 0].min()-1, stop=x_set[:, 0].max()+1, step=0.01),\n",
    "                     np.arange(start=x_set[:, 1].min()-1, stop=x_set[:, 1].max()+1, step=0.01))\n",
    "plt.contourf(x1, x2, classifier.predict(np.array([x1.ravel(), x2.ravel()]).T).reshape(x1.shape),\n",
    "             alpha = 0.75, cmap = ListedColormap(('red', 'green')))\n",
    "plt.xlim(x1.min(), x1.max())\n",
    "plt.ylim(x2.min(), x2.max())\n",
    "for i, j in enumerate (np.unique(y_set)):\n",
    "  plt.scatter(x_set[y_set == j, 0], x_set[y_set == j, 1],\n",
    "              c = ListedColormap(('red', 'green'))(i), label = j)\n",
    "plt.title('Klasifikasi Data dengan K-NN Modif(Data Training)')\n",
    "plt.legend()\n",
    "plt.show()"
   ]
  },
  {
   "cell_type": "code",
   "execution_count": 24,
   "id": "6be7cec1",
   "metadata": {},
   "outputs": [
    {
     "name": "stderr",
     "output_type": "stream",
     "text": [
      "C:\\Users\\acer\\anaconda3\\lib\\site-packages\\sklearn\\neighbors\\_classification.py:228: FutureWarning: Unlike other reduction functions (e.g. `skew`, `kurtosis`), the default behavior of `mode` typically preserves the axis it acts along. In SciPy 1.11.0, this behavior will change: the default value of `keepdims` will become False, the `axis` over which the statistic is taken will be eliminated, and the value None will no longer be accepted. Set `keepdims` to True or False to avoid this warning.\n",
      "  mode, _ = stats.mode(_y[neigh_ind, k], axis=1)\n",
      "*c* argument looks like a single numeric RGB or RGBA sequence, which should be avoided as value-mapping will have precedence in case its length matches with *x* & *y*.  Please use the *color* keyword-argument or provide a 2D array with a single row if you intend to specify the same RGB or RGBA value for all points.\n",
      "*c* argument looks like a single numeric RGB or RGBA sequence, which should be avoided as value-mapping will have precedence in case its length matches with *x* & *y*.  Please use the *color* keyword-argument or provide a 2D array with a single row if you intend to specify the same RGB or RGBA value for all points.\n",
      "*c* argument looks like a single numeric RGB or RGBA sequence, which should be avoided as value-mapping will have precedence in case its length matches with *x* & *y*.  Please use the *color* keyword-argument or provide a 2D array with a single row if you intend to specify the same RGB or RGBA value for all points.\n",
      "*c* argument looks like a single numeric RGB or RGBA sequence, which should be avoided as value-mapping will have precedence in case its length matches with *x* & *y*.  Please use the *color* keyword-argument or provide a 2D array with a single row if you intend to specify the same RGB or RGBA value for all points.\n",
      "*c* argument looks like a single numeric RGB or RGBA sequence, which should be avoided as value-mapping will have precedence in case its length matches with *x* & *y*.  Please use the *color* keyword-argument or provide a 2D array with a single row if you intend to specify the same RGB or RGBA value for all points.\n",
      "*c* argument looks like a single numeric RGB or RGBA sequence, which should be avoided as value-mapping will have precedence in case its length matches with *x* & *y*.  Please use the *color* keyword-argument or provide a 2D array with a single row if you intend to specify the same RGB or RGBA value for all points.\n",
      "*c* argument looks like a single numeric RGB or RGBA sequence, which should be avoided as value-mapping will have precedence in case its length matches with *x* & *y*.  Please use the *color* keyword-argument or provide a 2D array with a single row if you intend to specify the same RGB or RGBA value for all points.\n",
      "*c* argument looks like a single numeric RGB or RGBA sequence, which should be avoided as value-mapping will have precedence in case its length matches with *x* & *y*.  Please use the *color* keyword-argument or provide a 2D array with a single row if you intend to specify the same RGB or RGBA value for all points.\n",
      "*c* argument looks like a single numeric RGB or RGBA sequence, which should be avoided as value-mapping will have precedence in case its length matches with *x* & *y*.  Please use the *color* keyword-argument or provide a 2D array with a single row if you intend to specify the same RGB or RGBA value for all points.\n"
     ]
    },
    {
     "data": {
      "image/png": "[encoded data removed]",
      "text/plain": [
       "<Figure size 640x480 with 1 Axes>"
      ]
     },
     "metadata": {},
     "output_type": "display_data"
    }
   ],
   "source": [
    "from matplotlib.colors import ListedColormap\n",
    "x_set, y_set = x_test, y_test\n",
    "x1, x2 = np.meshgrid(np.arange(start=x_set[:, 0].min()-1, stop=x_set[:, 0].max()+1, step=0.01),\n",
    "                     np.arange(start=x_set[:, 1].min()-1, stop=x_set[:, 1].max()+1, step=0.01))\n",
    "plt.contourf(x1, x2, classifier.predict(np.array([x1.ravel(), x2.ravel()]).T).reshape(x1.shape),\n",
    "             alpha = 0.75, cmap = ListedColormap(('red', 'green')))\n",
    "plt.xlim(x1.min(), x1.max())\n",
    "plt.ylim(x2.min(), x2.max())\n",
    "for i, j in enumerate (np.unique(y_set)):\n",
    "  plt.scatter(x_set[y_set == j, 0], x_set[y_set == j, 1],\n",
    "              c = ListedColormap(('red', 'green'))(i), label = j)\n",
    "plt.title('Klasifikasi Data dengan K-NN (Data Testing)')\n",
    "plt.legend()\n",
    "plt.show()"
   ]
  },
  {
   "cell_type": "code",
   "execution_count": null,
   "id": "15cb989b",
   "metadata": {},
   "outputs": [],
   "source": []
  }
 ],
 "metadata": {
  "kernelspec": {
   "display_name": "Python 3 (ipykernel)",
   "language": "python",
   "name": "python3"
  },
  "language_info": {
   "codemirror_mode": {
    "name": "ipython",
    "version": 3
   },
   "file_extension": ".py",
   "mimetype": "text/x-python",
   "name": "python",
   "nbconvert_exporter": "python",
   "pygments_lexer": "ipython3",
   "version": "3.9.13"
  }
 },
 "nbformat": 4,
 "nbformat_minor": 5
}
